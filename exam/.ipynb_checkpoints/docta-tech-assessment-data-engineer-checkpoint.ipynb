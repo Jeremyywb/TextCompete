{
 "cells": [
  {
   "cell_type": "markdown",
   "metadata": {
    "id": "hD4q_bFhvkT_"
   },
   "source": [
    "## Take Home Test: Reformat a Public Dataset for LLM Training\n",
    "\n",
    "### Objective\n",
    "\n",
    "The goal of this task is to prepare public datasets for more effective use in training and fine-tuning Large Language Models (LLMs). You are required to reformat a specific subset of a public dataset into a structured, consistent format to facilitate its usability.\n",
    "\n",
    "### Detailed Instructions\n",
    "\n",
    "#### 1. Dataset Selection and Preparation\n",
    "\n",
    "- **Dataset:** You are assigned the `Headline` subset of the [AdaptLLM/finance-tasks](https://huggingface.co/datasets/AdaptLLM/finance-tasks) dataset.\n",
    "\n",
    "- **Task Description:** Each entry in the `input` column contains multiple \"Yes\" or \"No\" questions alongside their respective answers. Your task is to:\n",
    "\n",
    "  - Develop a Python script to parse and separate each question and its answer from the entry.\n",
    "  - Save each question-answer pair in a structured JSON format as follows:\n",
    "    ```json\n",
    "    {\n",
    "      \"id\": \"<unique_identifier>\",\n",
    "      \"Question\": \"<question_text>\",\n",
    "      \"Answer\": \"<answer_text>\"\n",
    "    }\n",
    "    ```\n",
    "\n",
    "  - You are encouraged to introduce additional attributes if needed to preserve the integrity and completeness of the information. Adding relevant tag information is strongly recommended.\n",
    "- **Automation Requirement:** The task must be completed using Python. Manual editing or data manipulation is strictly prohibited. Your script should efficiently handle variations in data format within the column.\n",
    "\n",
    "#### 2. Deliverables\n",
    "\n",
    "- **Reformatted Dataset:** Provide the schema of the final format you adopted for saving the results.\n",
    "- **Transformation Code:** Submit the complete code used for converting the dataset into the designated format.\n",
    "- **Statistics:** Report the total number of question-answer pairs extracted from the dataset.\n",
    "- **Performance Metrics:** Document the time taken to complete the dataset cleanup and transformation process.\n"
   ]
  },
  {
   "cell_type": "markdown",
   "metadata": {
    "id": "aDyI_KO5vDPt"
   },
   "source": [
    "# Load"
   ]
  },
  {
   "cell_type": "code",
   "execution_count": 1,
   "metadata": {
    "colab": {
     "base_uri": "https://localhost:8080/",
     "height": 206
    },
    "execution": {
     "iopub.execute_input": "2024-05-19T16:49:51.842127Z",
     "iopub.status.busy": "2024-05-19T16:49:51.841517Z",
     "iopub.status.idle": "2024-05-19T16:49:53.385559Z",
     "shell.execute_reply": "2024-05-19T16:49:53.384578Z",
     "shell.execute_reply.started": "2024-05-19T16:49:51.842084Z"
    },
    "id": "PTgZFttAu9nC",
    "outputId": "a1f556a3-a660-45e5-cc3a-2d2824d8f284"
   },
   "outputs": [
    {
     "data": {
      "text/html": [
       "<div>\n",
       "<style scoped>\n",
       "    .dataframe tbody tr th:only-of-type {\n",
       "        vertical-align: middle;\n",
       "    }\n",
       "\n",
       "    .dataframe tbody tr th {\n",
       "        vertical-align: top;\n",
       "    }\n",
       "\n",
       "    .dataframe thead th {\n",
       "        text-align: right;\n",
       "    }\n",
       "</style>\n",
       "<table border=\"1\" class=\"dataframe\">\n",
       "  <thead>\n",
       "    <tr style=\"text-align: right;\">\n",
       "      <th></th>\n",
       "      <th>id</th>\n",
       "      <th>input</th>\n",
       "      <th>options</th>\n",
       "      <th>gold_index</th>\n",
       "      <th>class_id</th>\n",
       "    </tr>\n",
       "  </thead>\n",
       "  <tbody>\n",
       "    <tr>\n",
       "      <th>0</th>\n",
       "      <td>0</td>\n",
       "      <td>Headline: \"Gold falls to Rs 30,800; silver dow...</td>\n",
       "      <td>[No, Yes]</td>\n",
       "      <td>1</td>\n",
       "      <td>0</td>\n",
       "    </tr>\n",
       "    <tr>\n",
       "      <th>1</th>\n",
       "      <td>1</td>\n",
       "      <td>Headline: february gold rallies to intraday hi...</td>\n",
       "      <td>[No, Yes]</td>\n",
       "      <td>0</td>\n",
       "      <td>7</td>\n",
       "    </tr>\n",
       "    <tr>\n",
       "      <th>2</th>\n",
       "      <td>2</td>\n",
       "      <td>Please answer a question about the following h...</td>\n",
       "      <td>[No, Yes]</td>\n",
       "      <td>0</td>\n",
       "      <td>5</td>\n",
       "    </tr>\n",
       "    <tr>\n",
       "      <th>3</th>\n",
       "      <td>3</td>\n",
       "      <td>Read this headline: \"gold closes lower as doll...</td>\n",
       "      <td>[No, Yes]</td>\n",
       "      <td>1</td>\n",
       "      <td>3</td>\n",
       "    </tr>\n",
       "    <tr>\n",
       "      <th>4</th>\n",
       "      <td>4</td>\n",
       "      <td>gold adds $42, or 2.4%, to trade at $1,833.30/...</td>\n",
       "      <td>[No, Yes]</td>\n",
       "      <td>0</td>\n",
       "      <td>1</td>\n",
       "    </tr>\n",
       "  </tbody>\n",
       "</table>\n",
       "</div>"
      ],
      "text/plain": [
       "   id                                              input    options  \\\n",
       "0   0  Headline: \"Gold falls to Rs 30,800; silver dow...  [No, Yes]   \n",
       "1   1  Headline: february gold rallies to intraday hi...  [No, Yes]   \n",
       "2   2  Please answer a question about the following h...  [No, Yes]   \n",
       "3   3  Read this headline: \"gold closes lower as doll...  [No, Yes]   \n",
       "4   4  gold adds $42, or 2.4%, to trade at $1,833.30/...  [No, Yes]   \n",
       "\n",
       "   gold_index  class_id  \n",
       "0           1         0  \n",
       "1           0         7  \n",
       "2           0         5  \n",
       "3           1         3  \n",
       "4           0         1  "
      ]
     },
     "execution_count": 1,
     "metadata": {},
     "output_type": "execute_result"
    }
   ],
   "source": [
    "import pandas as pd\n",
    "text_df = pd.read_json(\"/content/sample_data/test.json\")\n",
    "text_df.head()"
   ]
  },
  {
   "cell_type": "markdown",
   "metadata": {
    "id": "qPcqcZAJvAyK"
   },
   "source": [
    "# Processing"
   ]
  },
  {
   "cell_type": "code",
   "execution_count": 36,
   "metadata": {
    "colab": {
     "base_uri": "https://localhost:8080/"
    },
    "execution": {
     "iopub.execute_input": "2024-05-19T17:15:57.698405Z",
     "iopub.status.busy": "2024-05-19T17:15:57.697753Z",
     "iopub.status.idle": "2024-05-19T17:15:59.118532Z",
     "shell.execute_reply": "2024-05-19T17:15:59.116593Z",
     "shell.execute_reply.started": "2024-05-19T17:15:57.698363Z"
    },
    "id": "qCSXHdO_u4dW",
    "outputId": "d06d987a-ebdd-4da5-ff7e-1285c1ebd021"
   },
   "outputs": [
    {
     "name": "stdout",
     "output_type": "stream",
     "text": [
      "解析失败句子对个数 0\n",
      "解析成功句子对个数: 102735\n",
      "CPU times: user 1.37 s, sys: 20.4 ms, total: 1.39 s\n",
      "Wall time: 1.4 s\n"
     ]
    }
   ],
   "source": [
    "%%time\n",
    "import re\n",
    "def remove_options(text):\n",
    "    pattern = re.compile(r'\\nOptions:\\n- No\\n- Yes')\n",
    "    cleaned_text = pattern.sub('', text)\n",
    "    pattern = re.compile(r'\\nOptions:\\n- Yes\\n- No')\n",
    "    cleaned_text = pattern.sub('', cleaned_text)\n",
    "    return cleaned_text\n",
    "\n",
    "\n",
    "def split_A(text):\n",
    "    # 使用 '\\n\\n' 分割文本成多个片段\n",
    "    # segments = text.split('\\n\\n')\n",
    "    pattern = re.compile(r'(yes|no)\\s*\\n\\n', re.IGNORECASE)\n",
    "    segments = pattern.split(text)\n",
    "\n",
    "    valid_segments = []\n",
    "    buff = []\n",
    "    for segment in segments:\n",
    "      buff.append(segment)\n",
    "      if ( len(buff)==2 and\n",
    "        segment.lower() in {'yes', 'no'}):\n",
    "        valid_segments.append(buff )\n",
    "        buff = [ ]\n",
    "      if ( len(buff)==2 and\n",
    "        segment.lower() not in {'yes', 'no'}):\n",
    "        buff = [ ]\n",
    "\n",
    "\n",
    "\n",
    "    # for segment in segments:\n",
    "    #     # 使用空白字符分割片段，分离出前面的部分和最后一个单词\n",
    "    #     parts = segment.rsplit(maxsplit=1)\n",
    "\n",
    "    #     if len(parts) == 2:\n",
    "    #         body, last_word = parts\n",
    "    #         # 判断最后一个单词是否为小写的 'yes' 或 'no'\n",
    "    #         if last_word.lower() in {'yes', 'no'}:\n",
    "    #             valid_segments.append(parts)\n",
    "\n",
    "    return valid_segments\n",
    "def find_puncidx_before_does(text):\n",
    "    pattern = re.compile(r'([\\n:\"])(?=\\s*Does\\s)')#, re.IGNORECASE\n",
    "    match = pattern.search(text)\n",
    "    if match:\n",
    "        return match.start()\n",
    "    else:\n",
    "        return None\n",
    "def process_text(text):\n",
    "\n",
    "  L_HQ_A = split_A(\n",
    "      remove_options(text)\n",
    "  )\n",
    "  res = []\n",
    "  for HQ,A in L_HQ_A:\n",
    "    idx = find_puncidx_before_does(HQ)\n",
    "    if idx is None:\n",
    "      res.append( (\"[HQA]\",HQ,A) )\n",
    "    else:\n",
    "      res.append( (HQ[:idx+1],HQ[idx+1:].replace(\"\\n\",\"\"),A) )\n",
    "  return res\n",
    "  # idx = find_puncidx_before_does(HQ)\n",
    "  # H,Q = HQ[:idx+1],HQ[idx+1:]\n",
    "  # return \"[HEAD]\"+H,'[QUE]'+Q,'[ASW]'+A\n",
    "\n",
    "text_df['resList2'] = text_df['input'].map(process_text )\n",
    "def findHQA(vsl):\n",
    " return any([True if v[0]=='[HQA]' else False for v in  vsl])\n",
    "text_df['processERR2'] = text_df['resList2'].map( findHQA )\n",
    "\n",
    "print(\n",
    "    \"解析失败句子对个数\",\n",
    "    sum([len(x) for x in text_df[text_df['processERR2']==True]['resList2'].values])\n",
    "  )\n",
    "\n",
    "print(\n",
    "    '解析成功句子对个数:',\n",
    "    sum([len(x) for x in text_df[text_df['processERR2']==False]['resList2'].values])\n",
    ")\n",
    "\n",
    "# 解析失败句子对个数 0\n",
    "\n",
    "# 解析成功句子对个数: 102735\n",
    "\n",
    "# CPU times: user 1.55 s, sys: 0 ns, total: 1.55 s\n",
    "\n",
    "# Wall time: 1.55 s"
   ]
  },
  {
   "cell_type": "code",
   "execution_count": 63,
   "metadata": {
    "execution": {
     "iopub.execute_input": "2024-05-19T17:28:25.680206Z",
     "iopub.status.busy": "2024-05-19T17:28:25.679727Z",
     "iopub.status.idle": "2024-05-19T17:28:26.722733Z",
     "shell.execute_reply": "2024-05-19T17:28:26.721313Z",
     "shell.execute_reply.started": "2024-05-19T17:28:25.680171Z"
    },
    "id": "-YRY45GmzbZQ"
   },
   "outputs": [
    {
     "name": "stdout",
     "output_type": "stream",
     "text": [
      "CPU times: user 978 ms, sys: 46.8 ms, total: 1.02 s\n",
      "Wall time: 1.03 s\n"
     ]
    }
   ],
   "source": [
    "%%time\n",
    "jsondata = []\n",
    "for id1,vls in zip(text_df['id'].values,text_df['resList2'].values):\n",
    "  for i,vl in enumerate(vls):\n",
    "    idv = f'{id1}-{i}'\n",
    "    jsondata.append(\n",
    "        {\"id\": idv,\n",
    "        \"head\":vl[0],\n",
    "        \"Question\": vl[1],\n",
    "        \"Answer\": vl[2]\n",
    "  })\n",
    "\n",
    "import json\n",
    "with open('/content/sample_data/AdaptLLM-finance-tasks-Headline.json', 'w') as f:\n",
    "    json.dump(jsondata, f)\n"
   ]
  },
  {
   "cell_type": "markdown",
   "metadata": {},
   "source": [
    "# 待办 清洗head"
   ]
  },
  {
   "cell_type": "code",
   "execution_count": null,
   "metadata": {},
   "outputs": [],
   "source": []
  },
  {
   "cell_type": "code",
   "execution_count": 22,
   "metadata": {
    "execution": {
     "iopub.execute_input": "2024-05-19T17:09:23.558943Z",
     "iopub.status.busy": "2024-05-19T17:09:23.558552Z",
     "iopub.status.idle": "2024-05-19T17:09:23.568516Z",
     "shell.execute_reply": "2024-05-19T17:09:23.567426Z",
     "shell.execute_reply.started": "2024-05-19T17:09:23.558911Z"
    },
    "id": "mIrqvXQAvpKj"
   },
   "outputs": [
    {
     "name": "stdout",
     "output_type": "stream",
     "text": [
      "Headline: \"Gold falls to Rs 30,800; silver down at Rs 41,200 per kg\" Now answer this question:\n"
     ]
    },
    {
     "data": {
      "text/plain": [
       "'\"Gold falls to Rs 30,800; silver down at Rs 41,200 per kg'"
      ]
     },
     "execution_count": 22,
     "metadata": {},
     "output_type": "execute_result"
    }
   ],
   "source": [
    "def find_first_two_quotes(text):\n",
    "    pattern = re.compile(r'\"')\n",
    "    matches = pattern.finditer(text)\n",
    "    \n",
    "    indices = [match.start() for match in matches]\n",
    "    if len(indices) < 2:\n",
    "        return (indices[0], None) if indices else (None, None)\n",
    "    \n",
    "    return indices[0], indices[1]\n",
    "quotes_indices = find_first_two_quotes(tex)\n",
    "if quotes_indices is not None:\n",
    "    headline = tex[quotes_indices[0] : quotes_indices[1]]\n",
    "# if \n",
    "# res = []\n",
    "print(tex)\n",
    "headline       "
   ]
  },
  {
   "cell_type": "code",
   "execution_count": 38,
   "metadata": {
    "execution": {
     "iopub.execute_input": "2024-05-19T17:16:27.818770Z",
     "iopub.status.busy": "2024-05-19T17:16:27.818303Z",
     "iopub.status.idle": "2024-05-19T17:16:27.862030Z",
     "shell.execute_reply": "2024-05-19T17:16:27.860583Z",
     "shell.execute_reply.started": "2024-05-19T17:16:27.818736Z"
    }
   },
   "outputs": [],
   "source": [
    "ress = []\n",
    "for data in jsondata:\n",
    "    if 'does'  in data['Question']:\n",
    "        ress.append(data)"
   ]
  },
  {
   "cell_type": "code",
   "execution_count": 39,
   "metadata": {
    "execution": {
     "iopub.execute_input": "2024-05-19T17:16:30.151978Z",
     "iopub.status.busy": "2024-05-19T17:16:30.150958Z",
     "iopub.status.idle": "2024-05-19T17:16:30.162940Z",
     "shell.execute_reply": "2024-05-19T17:16:30.160689Z",
     "shell.execute_reply.started": "2024-05-19T17:16:30.151927Z"
    }
   },
   "outputs": [
    {
     "data": {
      "text/plain": [
       "[]"
      ]
     },
     "execution_count": 39,
     "metadata": {},
     "output_type": "execute_result"
    }
   ],
   "source": [
    "ress"
   ]
  },
  {
   "cell_type": "code",
   "execution_count": 61,
   "metadata": {
    "execution": {
     "iopub.execute_input": "2024-05-19T17:25:08.022453Z",
     "iopub.status.busy": "2024-05-19T17:25:08.021932Z",
     "iopub.status.idle": "2024-05-19T17:25:08.030038Z",
     "shell.execute_reply": "2024-05-19T17:25:08.028591Z",
     "shell.execute_reply.started": "2024-05-19T17:25:08.022416Z"
    }
   },
   "outputs": [
    {
     "name": "stdout",
     "output_type": "stream",
     "text": [
      "{'id': '8-0', 'head': \"jewellers' body opposes government's move to increase import duty on gold\\n\", 'Question': 'Does the news headline talk about price going down? Yes or No? ', 'Answer': 'No'}\n"
     ]
    }
   ],
   "source": [
    "for data in jsondata:\n",
    "    if ('\"' not  in data['head'] and ':' not  in data['head'] ):\n",
    "        tex = data['head']\n",
    "        print(data)\n",
    "        break\n"
   ]
  },
  {
   "cell_type": "code",
   "execution_count": 53,
   "metadata": {
    "execution": {
     "iopub.execute_input": "2024-05-19T17:20:55.963115Z",
     "iopub.status.busy": "2024-05-19T17:20:55.962595Z",
     "iopub.status.idle": "2024-05-19T17:20:55.971475Z",
     "shell.execute_reply": "2024-05-19T17:20:55.970522Z",
     "shell.execute_reply.started": "2024-05-19T17:20:55.963074Z"
    }
   },
   "outputs": [
    {
     "data": {
      "text/plain": [
       "{'id': '20546-4',\n",
       " 'head': '\"Gold futures rise to Rs 29,889 per 10 gm\" Answer this question:',\n",
       " 'Question': ' Does the news headline talk about price in the past? ',\n",
       " 'Answer': 'Yes'}"
      ]
     },
     "execution_count": 53,
     "metadata": {},
     "output_type": "execute_result"
    }
   ],
   "source": [
    "data"
   ]
  },
  {
   "cell_type": "code",
   "execution_count": 44,
   "metadata": {
    "execution": {
     "iopub.execute_input": "2024-05-19T17:18:16.679256Z",
     "iopub.status.busy": "2024-05-19T17:18:16.678792Z",
     "iopub.status.idle": "2024-05-19T17:18:16.691308Z",
     "shell.execute_reply": "2024-05-19T17:18:16.689372Z",
     "shell.execute_reply.started": "2024-05-19T17:18:16.679224Z"
    }
   },
   "outputs": [
    {
     "data": {
      "text/plain": [
       "'\"Gold futures rise to Rs 29,889 per 10 gm\" Answer this question:'"
      ]
     },
     "execution_count": 44,
     "metadata": {},
     "output_type": "execute_result"
    }
   ],
   "source": [
    "data['head']"
   ]
  },
  {
   "cell_type": "code",
   "execution_count": 17,
   "metadata": {
    "execution": {
     "iopub.execute_input": "2024-05-19T16:58:23.507615Z",
     "iopub.status.busy": "2024-05-19T16:58:23.507180Z",
     "iopub.status.idle": "2024-05-19T16:58:23.531939Z",
     "shell.execute_reply": "2024-05-19T16:58:23.531052Z",
     "shell.execute_reply.started": "2024-05-19T16:58:23.507583Z"
    }
   },
   "outputs": [],
   "source": [
    "\n",
    "res2 = []\n",
    "for data in res:\n",
    "    if ':' not in data['head']:\n",
    "        res2.append(data)\n",
    "        "
   ]
  },
  {
   "cell_type": "code",
   "execution_count": 62,
   "metadata": {
    "execution": {
     "iopub.execute_input": "2024-05-19T17:27:07.218177Z",
     "iopub.status.busy": "2024-05-19T17:27:07.217661Z",
     "iopub.status.idle": "2024-05-19T17:27:07.225468Z",
     "shell.execute_reply": "2024-05-19T17:27:07.223824Z",
     "shell.execute_reply.started": "2024-05-19T17:27:07.218142Z"
    }
   },
   "outputs": [],
   "source": [
    "# res2"
   ]
  }
 ],
 "metadata": {
  "colab": {
   "provenance": []
  },
  "kaggle": {
   "accelerator": "none",
   "dataSources": [
    {
     "datasetId": 5042910,
     "sourceId": 8460065,
     "sourceType": "datasetVersion"
    }
   ],
   "dockerImageVersionId": 30698,
   "isGpuEnabled": false,
   "isInternetEnabled": true,
   "language": "python",
   "sourceType": "notebook"
  },
  "kernelspec": {
   "display_name": "Python 3",
   "language": "python",
   "name": "python3"
  },
  "language_info": {
   "codemirror_mode": {
    "name": "ipython",
    "version": 3
   },
   "file_extension": ".py",
   "mimetype": "text/x-python",
   "name": "python",
   "nbconvert_exporter": "python",
   "pygments_lexer": "ipython3",
   "version": "3.7.6"
  }
 },
 "nbformat": 4,
 "nbformat_minor": 4
}
